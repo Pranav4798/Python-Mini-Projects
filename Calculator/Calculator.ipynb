{
 "cells": [
  {
   "cell_type": "markdown",
   "metadata": {},
   "source": [
    "### Calculator"
   ]
  },
  {
   "cell_type": "code",
   "execution_count": 37,
   "metadata": {},
   "outputs": [],
   "source": [
    "def get_number(number):\n",
    "    \n",
    "  while True:\n",
    "    operand = input('Number ' + str(number) + ': ')\n",
    "    try:\n",
    "        return float(operand)\n",
    "    except:\n",
    "        print('Math Error')"
   ]
  },
  {
   "cell_type": "code",
   "execution_count": 38,
   "metadata": {},
   "outputs": [
    {
     "name": "stdout",
     "output_type": "stream",
     "text": [
      "Number 1: 8\n"
     ]
    }
   ],
   "source": [
    "operand1 = get_number(1)"
   ]
  },
  {
   "cell_type": "code",
   "execution_count": 39,
   "metadata": {
    "scrolled": true
   },
   "outputs": [
    {
     "name": "stdout",
     "output_type": "stream",
     "text": [
      "Number 2: 2\n"
     ]
    }
   ],
   "source": [
    "operand2 = get_number(2)"
   ]
  },
  {
   "cell_type": "code",
   "execution_count": 40,
   "metadata": {},
   "outputs": [
    {
     "name": "stdout",
     "output_type": "stream",
     "text": [
      "Sign :*\n"
     ]
    }
   ],
   "source": [
    "sign = input('Sign :')"
   ]
  },
  {
   "cell_type": "code",
   "execution_count": 41,
   "metadata": {
    "scrolled": true
   },
   "outputs": [
    {
     "name": "stdout",
     "output_type": "stream",
     "text": [
      "8.0 * 2.0\n"
     ]
    }
   ],
   "source": [
    "print(str(operand1) +\" \"+sign+\" \"+ str(operand2))"
   ]
  },
  {
   "cell_type": "code",
   "execution_count": 45,
   "metadata": {},
   "outputs": [
    {
     "name": "stdout",
     "output_type": "stream",
     "text": [
      "8.0 * 2.0 = 16.0\n"
     ]
    }
   ],
   "source": [
    "result = 0\n",
    "\n",
    "if sign == '+':\n",
    "    result = float(operand1) + float(operand2)\n",
    "elif sign == '-':\n",
    "    result = float(operand1) - float(operand2)\n",
    "elif sign == '*':\n",
    "    result = float(operand1) * float(operand2)\n",
    "elif sign == '/':\n",
    "    if float(operand2) != 0:\n",
    "        result = float(operand1) / float(operand2)\n",
    "    else:\n",
    "        print('Math Error')\n",
    "print(str(operand1) +\" \"+sign+\" \"+ str(operand2)+\" \"+'='+\" \"+str(result))"
   ]
  },
  {
   "cell_type": "code",
   "execution_count": null,
   "metadata": {},
   "outputs": [],
   "source": []
  }
 ],
 "metadata": {
  "kernelspec": {
   "display_name": "Python 3",
   "language": "python",
   "name": "python3"
  },
  "language_info": {
   "codemirror_mode": {
    "name": "ipython",
    "version": 3
   },
   "file_extension": ".py",
   "mimetype": "text/x-python",
   "name": "python",
   "nbconvert_exporter": "python",
   "pygments_lexer": "ipython3",
   "version": "3.7.3"
  }
 },
 "nbformat": 4,
 "nbformat_minor": 2
}
