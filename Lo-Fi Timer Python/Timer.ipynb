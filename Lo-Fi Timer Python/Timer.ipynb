{
 "cells": [
  {
   "cell_type": "code",
   "execution_count": 2,
   "metadata": {},
   "outputs": [],
   "source": [
    "from playsound import playsound\n",
    "import time"
   ]
  },
  {
   "cell_type": "code",
   "execution_count": 3,
   "metadata": {},
   "outputs": [],
   "source": [
    "#playsound(\"win-banjo.mp3\")"
   ]
  },
  {
   "cell_type": "code",
   "execution_count": 10,
   "metadata": {},
   "outputs": [],
   "source": [
    "CLEAR = \"\\033[2J\"\n",
    "CLEAR_AND_RETURN =  \"\\033[H\""
   ]
  },
  {
   "cell_type": "code",
   "execution_count": 14,
   "metadata": {},
   "outputs": [
    {
     "name": "stdout",
     "output_type": "stream",
     "text": [
      "How many mins to wait: 0\n",
      "How many secs to wait: 5\n",
      "\u001b[2J\n",
      "\u001b[HAlarm will sound in: 00:04\n",
      "\u001b[HAlarm will sound in: 00:03\n",
      "\u001b[HAlarm will sound in: 00:02\n",
      "\u001b[HAlarm will sound in: 00:01\n",
      "\u001b[HAlarm will sound in: 00:00\n"
     ]
    }
   ],
   "source": [
    "def alarm(seconds):\n",
    "    time_elapsed = 0\n",
    "    \n",
    "    print(CLEAR)\n",
    "    while time_elapsed < seconds:\n",
    "        time.sleep(1)\n",
    "        time_elapsed += 1\n",
    "        \n",
    "        time_left = seconds - time_elapsed\n",
    "        mins_left = time_left // 60\n",
    "        secs_left = time_left % 60\n",
    "        \n",
    "        print(f\"{CLEAR_AND_RETURN}Alarm will sound in: {mins_left:02d}:{secs_left:02d}\")\n",
    "    \n",
    "    playsound(\"win-banjo.mp3\")\n",
    "    \n",
    "mins = int(input('How many mins to wait: '))\n",
    "secs = int(input('How many secs to wait: '))\n",
    "total_seconds = mins * 60 + secs\n",
    "alarm(total_seconds)"
   ]
  },
  {
   "cell_type": "code",
   "execution_count": null,
   "metadata": {},
   "outputs": [],
   "source": []
  },
  {
   "cell_type": "code",
   "execution_count": null,
   "metadata": {},
   "outputs": [],
   "source": []
  }
 ],
 "metadata": {
  "kernelspec": {
   "display_name": "Python 3",
   "language": "python",
   "name": "python3"
  },
  "language_info": {
   "codemirror_mode": {
    "name": "ipython",
    "version": 3
   },
   "file_extension": ".py",
   "mimetype": "text/x-python",
   "name": "python",
   "nbconvert_exporter": "python",
   "pygments_lexer": "ipython3",
   "version": "3.7.3"
  }
 },
 "nbformat": 4,
 "nbformat_minor": 2
}
